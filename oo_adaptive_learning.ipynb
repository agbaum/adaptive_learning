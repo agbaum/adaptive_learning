{
 "cells": [
  {
   "cell_type": "code",
   "execution_count": null,
   "metadata": {},
   "outputs": [],
   "source": [
    "import itertools as it\n",
    "import pandas as pd\n",
    "import numpy as np\n",
    "import sklearn.model_selection as ms\n",
    "from sklearn.linear_model import Lasso\n",
    "from abc import ABC, abstractmethod\n",
    "from scipy import stats\n",
    "import warnings\n",
    "import seaborn as sns"
   ]
  },
  {
   "cell_type": "markdown",
   "metadata": {},
   "source": [
    "The scenario being modeled here involves the impact of combinations of drugs on a given output metric. We assume that individual drugs inmpact the output, and that there are higher-order effects of drug combinations on the output as well, but that those effects decay as the combinations increase (i.e., 4th-order effects are less likely/impactful than 2nd-order effects).\n",
    "\n",
    "The goal is to be able to predict the entire combination space with as few measurements as possible. \n",
    "\n",
    "I've implemented an adaptive learning scheme, which takes a model and a current set of data and makes a decision about which sample in the sample space to measure next. Additionally, I've implemented classes to simulate using this scheme, and also a scheme that randomly chooses the next sample to measure, for comparison."
   ]
  },
  {
   "cell_type": "markdown",
   "metadata": {},
   "source": [
    "# Generate Test Data"
   ]
  },
  {
   "cell_type": "code",
   "execution_count": 2,
   "metadata": {},
   "outputs": [],
   "source": [
    "drugs = ['A', 'B', 'C', 'D', 'E', 'F', 'G']\n",
    "\n",
    "# generate all possible combinations of drugs\n",
    "all_combos = []\n",
    "for combo_size in range(1, len(drugs) + 1):\n",
    "    for combo in it.combinations(drugs, combo_size):\n",
    "        all_combos.append(''.join(combo))\n",
    "        \n",
    "# make design matrix of all combinations\n",
    "condition_mat = pd.DataFrame(0, index = all_combos, columns = all_combos)\n",
    "for combo in all_combos:\n",
    "    sub_combos = []\n",
    "    for sub_size in range(1, len(combo) + 1):\n",
    "        for sub_combo in it.combinations(combo, sub_size):\n",
    "            sub_combos.append(''.join(sub_combo))\n",
    "    condition_mat.loc[combo, sub_combos] = 1"
   ]
  },
  {
   "cell_type": "code",
   "execution_count": 3,
   "metadata": {},
   "outputs": [],
   "source": [
    "base_effect = 3\n",
    "error = 0.25\n",
    "rng = np.random.default_rng()\n",
    "\n",
    "# generate effect for each drug combination\n",
    "# possible effect size decays with order of combination\n",
    "effects = [rng.normal(scale = base_effect * 10**-len(combo)) \n",
    "           for combo in all_combos]\n",
    "# base value for each combination (sum of sub-combo effects)\n",
    "y = pd.Series(np.matmul(np.array(condition_mat), np.array(effects)))\n",
    "y.index = condition_mat.index\n",
    "# add error\n",
    "y += rng.normal(scale = error, size = len(y))"
   ]
  },
  {
   "cell_type": "markdown",
   "metadata": {},
   "source": [
    "# Class"
   ]
  },
  {
   "cell_type": "code",
   "execution_count": 4,
   "metadata": {},
   "outputs": [],
   "source": [
    "class MeasurementIterator (ABC):\n",
    "    \n",
    "    '''\n",
    "    Abstract class for learning model iterators.\n",
    "    Iterates through sample space, \"measuring\" a new sample each time.\n",
    "    _next_step function decides which sample to measure next.\n",
    "    '''\n",
    "    \n",
    "    def __init__(self, x, y, starting_fraction, model):\n",
    "        self.full_x = x\n",
    "        self.full_y = y\n",
    "        self.model = model\n",
    "\n",
    "        train_test = ms.train_test_split(x.index,\n",
    "                                         train_size = starting_fraction)\n",
    "        self.measured = list(train_test[0])\n",
    "        self.unmeasured = list(train_test[1])\n",
    "\n",
    "    def assess_model(self):\n",
    "        # assess predictive power of model given currrently measured samples        \n",
    "        self.model.fit(self.full_x.loc[self.measured, :], \n",
    "                       self.full_y[self.measured])\n",
    "        predictions = self.model.predict(self.full_x.loc[self.unmeasured, :])\n",
    "        return stats.pearsonr(predictions, y[self.unmeasured])[0]\n",
    "    \n",
    "        \n",
    "    def n_measured(self):\n",
    "        return len(self.measured)\n",
    "    \n",
    "    def __iter__(self):\n",
    "        return self\n",
    "        \n",
    "    def __next__(self):\n",
    "        if len(self.unmeasured) == 0:\n",
    "            raise StopIteration\n",
    "            \n",
    "        next_step = self._next_step()    \n",
    "        \n",
    "        self.measured.append(next_step)\n",
    "        self.unmeasured.remove(next_step)\n",
    "\n",
    "        return next_step\n",
    "    \n",
    "    @abstractmethod\n",
    "    def _next_step(self):\n",
    "        pass"
   ]
  },
  {
   "cell_type": "code",
   "execution_count": 5,
   "metadata": {},
   "outputs": [],
   "source": [
    "class MeasuringModelSimulator:\n",
    "    \n",
    "    '''\n",
    "    Class for simulating a model in which measurements are taken over time,\n",
    "    increasing the size of the data the model is trained on.\n",
    "    The measurer is a MeasurementIterator, which determines which samples\n",
    "    to measure as it is iterated over.\n",
    "    '''\n",
    "    \n",
    "    def __init__(self, x, y, model, MeasurerClass):\n",
    "        self.x = x\n",
    "        self.y = y\n",
    "        self.model = model\n",
    "        self.MeasurerClass = MeasurerClass\n",
    "    \n",
    "    def __iter__(self):\n",
    "        start_fraction = .25\n",
    "        return self.MeasurerClass(self.x, self.y, start_fraction, self.model)\n",
    "    \n",
    "    def simulate (self, start_point = None, stop_point = None):\n",
    "        # start fraction is passed to train_test_split\n",
    "        # determines how much of the data starts as \"measured\"\n",
    "        if start_point is None:\n",
    "            start_fraction = .25\n",
    "        else:\n",
    "            start_fraction = start_point / len(self.y)\n",
    "        if stop_point is None:\n",
    "            stop_point = len(self.y) - 5\n",
    "                        \n",
    "        measurer = self.MeasurerClass(self.x, self.y,\n",
    "                                      start_fraction, self.model)\n",
    "        n_measureds = []\n",
    "        scores = []\n",
    "        for step in measurer:\n",
    "            n_measureds.append(measurer.n_measured())\n",
    "            scores.append(measurer.assess_model())\n",
    "            \n",
    "            if measurer.n_measured() >= stop_point:\n",
    "                break\n",
    "\n",
    "        return (pd.DataFrame({'n': n_measureds, 'score': scores}))\n",
    "        "
   ]
  },
  {
   "cell_type": "code",
   "execution_count": 6,
   "metadata": {},
   "outputs": [],
   "source": [
    "class AdaptiveIterator (MeasurementIterator):\n",
    "    \n",
    "    '''\n",
    "    Chooses new sample to measure using an adaptive learning scheme.\n",
    "    This scheme prioritizes samples with the highest uncertainity in the model,\n",
    "    to predict the whole samples space as quickly as possible.\n",
    "    '''\n",
    "    \n",
    "    def __init__(self, x, y, starting_fraction, model):\n",
    "        super().__init__(x, y, starting_fraction, model)\n",
    "\n",
    "    def _next_step(self):\n",
    "        # split samples into folds\n",
    "        kfold = ms.KFold(5, shuffle = True)\n",
    "        folds = kfold.split(self.full_x.loc[self.measured, :])\n",
    "        predictions = []\n",
    "        for f in folds:\n",
    "            # use fold to predict unmeasured\n",
    "            self.model.fit(self.full_x.iloc[f[0]], self.full_y[f[0]])\n",
    "            prediction = self.model.predict(self.full_x.loc[self.unmeasured, :])\n",
    "            predictions.append(prediction)\n",
    "        predictions = np.array(predictions)\n",
    "\n",
    "        # next step has highest variance among fold predictions\n",
    "        variances = np.var(predictions, axis = 0)\n",
    "        next_step = self.unmeasured[np.argmax(variances)]\n",
    "\n",
    "        return next_step\n"
   ]
  },
  {
   "cell_type": "code",
   "execution_count": 7,
   "metadata": {},
   "outputs": [],
   "source": [
    "class RandomIterator (MeasurementIterator):\n",
    "    \n",
    "    '''\n",
    "    Chooses next sample to measure randomly.\n",
    "    '''\n",
    "    \n",
    "    def __init__(self, x, y, starting_fraction, model):\n",
    "        super().__init__(x, y, starting_fraction, model)\n",
    "        self.rng = np.random.default_rng()\n",
    "\n",
    "    def _next_step(self):\n",
    "        next_step = self.rng.choice(self.unmeasured)\n",
    "        return next_step"
   ]
  },
  {
   "cell_type": "markdown",
   "metadata": {},
   "source": [
    "# Tests"
   ]
  },
  {
   "cell_type": "markdown",
   "metadata": {},
   "source": [
    "Because we expect that number of drugs/combinations that have actual effects is small, we can use LASSO regression, which minimizes the number of non-zero coefficients. We use scikit-learn `GridSearchCV` class to try out a number of `alpha` parameter in the LASSO model. "
   ]
  },
  {
   "cell_type": "code",
   "execution_count": 8,
   "metadata": {},
   "outputs": [],
   "source": [
    "warnings.filterwarnings('ignore', message = 'Objective did not converge')\n",
    "params = {\"alpha\": [1e-5, 1e-4, 1e-3, 5e-3, 1e-2, 5e-2, 1e-1, 1, 3, 5, 7, 10, 15]}\n",
    "lasso_regressor = ms.GridSearchCV(Lasso(), params, \n",
    "                                  scoring = 'neg_mean_squared_error',\n",
    "                                  cv=5)"
   ]
  },
  {
   "cell_type": "markdown",
   "metadata": {},
   "source": [
    "## Simulate"
   ]
  },
  {
   "cell_type": "code",
   "execution_count": 9,
   "metadata": {},
   "outputs": [],
   "source": [
    "# number of simulations to run\n",
    "n_tests = 5"
   ]
  },
  {
   "cell_type": "code",
   "execution_count": 10,
   "metadata": {},
   "outputs": [],
   "source": [
    "ad_simulator = MeasuringModelSimulator(condition_mat, y, \n",
    "                                       lasso_regressor, AdaptiveIterator)\n",
    "ad_runs = [ad_simulator.simulate() for i in range(n_tests)]\n",
    "ad_runs = pd.concat(ad_runs, keys = range(n_tests), names = ['run'])"
   ]
  },
  {
   "cell_type": "code",
   "execution_count": 11,
   "metadata": {},
   "outputs": [],
   "source": [
    "rand_simulator = MeasuringModelSimulator(condition_mat, y, \n",
    "                                         lasso_regressor, RandomIterator)\n",
    "rand_runs = [rand_simulator.simulate() for i in range(n_tests)]\n",
    "rand_runs = pd.concat(rand_runs, keys = range(n_tests), names = ['run'])"
   ]
  },
  {
   "cell_type": "markdown",
   "metadata": {},
   "source": [
    "## Plot"
   ]
  },
  {
   "cell_type": "code",
   "execution_count": 12,
   "metadata": {},
   "outputs": [],
   "source": [
    "combined_res = pd.concat([ad_runs, rand_runs], \n",
    "                    keys = ['adaptive', 'random'], \n",
    "                    names = ['method'])\n",
    "combined_res = combined_res.reset_index(['run', 'method'])"
   ]
  },
  {
   "cell_type": "code",
   "execution_count": 15,
   "metadata": {},
   "outputs": [
    {
     "data": {
      "text/plain": [
       "<matplotlib.axes._subplots.AxesSubplot at 0x7fd967edd710>"
      ]
     },
     "execution_count": 15,
     "metadata": {},
     "output_type": "execute_result"
    },
    {
     "data": {
      "image/png": "[encoded data removed]",
      "text/plain": [
       "<Figure size 432x288 with 1 Axes>"
      ]
     },
     "metadata": {
      "needs_background": "light"
     },
     "output_type": "display_data"
    }
   ],
   "source": [
    "sns.lineplot(data = combined_res, x = 'n', y = 'score', hue = 'method')"
   ]
  },
  {
   "cell_type": "code",
   "execution_count": null,
   "metadata": {},
   "outputs": [],
   "source": []
  }
 ],
 "metadata": {
  "kernelspec": {
   "display_name": "Python 3",
   "language": "python",
   "name": "python3"
  },
  "language_info": {
   "codemirror_mode": {
    "name": "ipython",
    "version": 3
   },
   "file_extension": ".py",
   "mimetype": "text/x-python",
   "name": "python",
   "nbconvert_exporter": "python",
   "pygments_lexer": "ipython3",
   "version": "3.7.6"
  }
 },
 "nbformat": 4,
 "nbformat_minor": 4
}
